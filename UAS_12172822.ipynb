{
 "cells": [
  {
   "cell_type": "code",
   "execution_count": 1,
   "metadata": {},
   "outputs": [
    {
     "data": {
      "application/vnd.jupyter.widget-view+json": {
       "model_id": "2d831983-d0f8-4b35-951c-ab23cd4da104",
       "version_major": 2,
       "version_minor": 0
      },
      "method": "display_data"
     },
     "metadata": {},
     "output_type": "display_data"
    }
   ],
   "source": [
    "%classpath add jar libs/*"
   ]
  },
  {
   "cell_type": "code",
   "execution_count": 2,
   "metadata": {},
   "outputs": [
    {
     "name": "stdout",
     "output_type": "stream",
     "text": [
      "        Structure of 12172822.csv         \n",
      " Index  |  Column Name   |  Column Type  |\n",
      "------------------------------------------\n",
      "     0  |           _id  |      INTEGER  |\n",
      "     1  |           idx  |      INTEGER  |\n",
      "     2  |        series  |       STRING  |\n",
      "     3  |  kode_wilayah  |      INTEGER  |\n",
      "     4  |       wilayah  |       STRING  |\n",
      "     5  |         tahun  |      INTEGER  |\n",
      "     6  |      triwulan  |       STRING  |\n",
      "     7  |         bulan  |       STRING  |\n",
      "     8  |       tanggal  |       STRING  |\n",
      "     9  |         nilai  |      INTEGER  |\n",
      "    10  |        target  |       STRING  |\n",
      "318 rows X 11 cols\n",
      "        Structure of 12172822.json        \n",
      " Index  |  Column Name   |  Column Type  |\n",
      "------------------------------------------\n",
      "     0  |  kode_wilayah  |      INTEGER  |\n",
      "     1  |         tahun  |      INTEGER  |\n",
      "     2  |        series  |       STRING  |\n",
      "     3  |         nilai  |      INTEGER  |\n",
      "     4  |           _id  |      INTEGER  |\n",
      "     5  |       wilayah  |       STRING  |\n",
      "     6  |       tanggal  |       STRING  |\n",
      "     7  |           idx  |      INTEGER  |\n",
      "     8  |         bulan  |       STRING  |\n",
      "     9  |      triwulan  |       STRING  |\n",
      "    10  |        target  |       STRING  |\n",
      "                                                                                 12172822.csv                                                                                 \n",
      " _id  |  idx  |                          series                          |  kode_wilayah  |    wilayah     |  tahun  |  triwulan  |  bulan  |  tanggal  |  nilai  |  target  |\n",
      "------------------------------------------------------------------------------------------------------------------------------------------------------------------------------\n",
      " 416  |  415  |  Jumlah Korban yang Meninggal Karena Perkelahian Massal  |          7471  |  KOTA KENDARI  |   2006  |            |         |           |         |          |\n",
      " 417  |  416  |  Jumlah Korban yang Meninggal Karena Perkelahian Massal  |          7472  |  KOTA BAU-BAU  |   2006  |            |         |           |         |          |\n",
      " 418  |  417  |  Jumlah Korban yang Meninggal Karena Perkelahian Massal  |          7501  |       BOALEMO  |   2006  |            |         |           |      1  |          |\n",
      " 419  |  418  |  Jumlah Korban yang Meninggal Karena Perkelahian Massal  |          7502  |     GORONTALO  |   2006  |            |         |           |         |          |\n",
      " 420  |  419  |  Jumlah Korban yang Meninggal Karena Perkelahian Massal  |          7503  |      POHUWATO  |   2006  |            |         |           |         |          |\n",
      "                        12172822.csv summary                        \n",
      "   Mean [nilai]    |  Max [nilai]  |  Min [nilai]  |  Sum [nilai]  |\n",
      "--------------------------------------------------------------------\n",
      " 6.07106598984771  |          276  |            1  |         1196  |"
     ]
    },
    {
     "data": {
      "text/plain": [
       "null"
      ]
     },
     "execution_count": 2,
     "metadata": {},
     "output_type": "execute_result"
    }
   ],
   "source": [
    "import tech.tablesaw.api.*;\n",
    "import tech.tablesaw.io.json.*;\n",
    "import static tech.tablesaw.aggregate.AggregateFunctions.*;\n",
    "\n",
    "// display Tablesaw tables with BeakerX table display widget\n",
    "tech.tablesaw.beakerx.TablesawDisplayer.register();\n",
    "\n",
    "//init objek file CSV\n",
    "Table  dfSmallgrade= Table.read().csv(\"12172822.csv\");\n",
    "//struktur file CSV\n",
    "System.out.println(dfSmallgrade.structure());\n",
    "//ordo file CSV \n",
    "System.out.println(dfSmallgrade.shape());\n",
    "\n",
    "JsonReader reader = new JsonReader();\n",
    "\n",
    "//membaca file JSON\n",
    "JsonReadOptions fileJSON = JsonReadOptions.builder(\"12172822.json\").build(); \n",
    "Table tabeljson = reader.read(fileJSON);\n",
    "System.out.println(tabeljson.structure());\n",
    "\n",
    "//menggabungkan file CSV dan JSON\n",
    "Table datagabung = dfSmallgrade.append(tabeljson);\n",
    "System.out.println(datagabung.last(5)); \n",
    "\n",
    "//menampilkan data gabungan\n",
    "System.out.print(datagabung.summarize(\"nilai\", mean, max, min, sum).apply());\n"
   ]
  }
 ],
 "metadata": {
  "kernelspec": {
   "display_name": "Java",
   "language": "java",
   "name": "java"
  },
  "language_info": {
   "codemirror_mode": "text/x-java",
   "file_extension": ".java",
   "mimetype": "",
   "name": "Java",
   "nbconverter_exporter": "",
   "version": "1.8.0_121"
  },
  "toc": {
   "base_numbering": 1,
   "nav_menu": {},
   "number_sections": false,
   "sideBar": false,
   "skip_h1_title": false,
   "title_cell": "Table of Contents",
   "title_sidebar": "Contents",
   "toc_cell": false,
   "toc_position": {},
   "toc_section_display": false,
   "toc_window_display": false
  }
 },
 "nbformat": 4,
 "nbformat_minor": 2
}
